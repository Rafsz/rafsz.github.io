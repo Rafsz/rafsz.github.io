{
 "cells": [
  {
   "cell_type": "markdown",
   "id": "8bf21b01-41e6-4dee-9b21-4bd642cf9afe",
   "metadata": {},
   "source": [
    "# <span style='background:DarkOliveGreen'>*. The Trading Strategy using MM9  . 🐍*</span>"
   ]
  },
  {
   "cell_type": "markdown",
   "id": "80a31202-28ea-4cb2-bda6-c0cdde2f901a",
   "metadata": {},
   "source": [
    "#### - We will use Pandas to download H1 quotes for ITSA4 (a stock traded in the Brazilian Market (Bovespa/B3)) since the beginning of dec/2020 (12months)\n",
    "#### - Calculate the Moving-Average of 9 periods (in this case hours)\n",
    "#### - Check the signals to buy and sell according to the strategy proposed by Larry Williams (\"setup 9.1\") as Explained by the trader Stormer in his Youtube video"
   ]
  },
  {
   "cell_type": "markdown",
   "id": "30669545-fe1f-4095-9c74-cf42363494db",
   "metadata": {},
   "source": [
    "###### *Please note that this code is still under construction - must finish before 05dec21*"
   ]
  },
  {
   "cell_type": "code",
   "execution_count": 2,
   "id": "70b3e9d2-eea6-4987-b2a1-582743e410ff",
   "metadata": {},
   "outputs": [],
   "source": [
    "import pandas as pd\n",
    "from pandas_datareader import data as web"
   ]
  },
  {
   "cell_type": "code",
   "execution_count": 3,
   "id": "976dafac-68f9-4312-9218-f600f837954e",
   "metadata": {},
   "outputs": [],
   "source": [
    "import matplotlib.pyplot as plt"
   ]
  },
  {
   "cell_type": "markdown",
   "id": "2bb43ef8-6e9f-48ab-a61a-ed608213b6ed",
   "metadata": {},
   "source": [
    "# 1. Getting quotes for ITSA4"
   ]
  },
  {
   "cell_type": "code",
   "execution_count": 4,
   "id": "bc238ae9-b0e7-4c03-b9bd-ed38c06f19c1",
   "metadata": {},
   "outputs": [
    {
     "data": {
      "text/html": [
       "<div>\n",
       "<style scoped>\n",
       "    .dataframe tbody tr th:only-of-type {\n",
       "        vertical-align: middle;\n",
       "    }\n",
       "\n",
       "    .dataframe tbody tr th {\n",
       "        vertical-align: top;\n",
       "    }\n",
       "\n",
       "    .dataframe thead th {\n",
       "        text-align: right;\n",
       "    }\n",
       "</style>\n",
       "<table border=\"1\" class=\"dataframe\">\n",
       "  <thead>\n",
       "    <tr style=\"text-align: right;\">\n",
       "      <th></th>\n",
       "      <th>High</th>\n",
       "      <th>Low</th>\n",
       "      <th>Open</th>\n",
       "      <th>Close</th>\n",
       "      <th>Volume</th>\n",
       "      <th>Adj Close</th>\n",
       "    </tr>\n",
       "    <tr>\n",
       "      <th>Date</th>\n",
       "      <th></th>\n",
       "      <th></th>\n",
       "      <th></th>\n",
       "      <th></th>\n",
       "      <th></th>\n",
       "      <th></th>\n",
       "    </tr>\n",
       "  </thead>\n",
       "  <tbody>\n",
       "    <tr>\n",
       "      <th>2020-12-01</th>\n",
       "      <td>11.13</td>\n",
       "      <td>10.70</td>\n",
       "      <td>10.75</td>\n",
       "      <td>11.04</td>\n",
       "      <td>39752900.0</td>\n",
       "      <td>10.539980</td>\n",
       "    </tr>\n",
       "    <tr>\n",
       "      <th>2020-12-02</th>\n",
       "      <td>11.12</td>\n",
       "      <td>10.91</td>\n",
       "      <td>11.05</td>\n",
       "      <td>11.03</td>\n",
       "      <td>19672800.0</td>\n",
       "      <td>10.530435</td>\n",
       "    </tr>\n",
       "    <tr>\n",
       "      <th>2020-12-03</th>\n",
       "      <td>11.44</td>\n",
       "      <td>11.02</td>\n",
       "      <td>11.07</td>\n",
       "      <td>11.19</td>\n",
       "      <td>42988000.0</td>\n",
       "      <td>10.683187</td>\n",
       "    </tr>\n",
       "    <tr>\n",
       "      <th>2020-12-04</th>\n",
       "      <td>11.29</td>\n",
       "      <td>11.07</td>\n",
       "      <td>11.26</td>\n",
       "      <td>11.21</td>\n",
       "      <td>24138900.0</td>\n",
       "      <td>10.702282</td>\n",
       "    </tr>\n",
       "    <tr>\n",
       "      <th>2020-12-07</th>\n",
       "      <td>11.39</td>\n",
       "      <td>11.08</td>\n",
       "      <td>11.17</td>\n",
       "      <td>11.26</td>\n",
       "      <td>26761100.0</td>\n",
       "      <td>10.750017</td>\n",
       "    </tr>\n",
       "    <tr>\n",
       "      <th>...</th>\n",
       "      <td>...</td>\n",
       "      <td>...</td>\n",
       "      <td>...</td>\n",
       "      <td>...</td>\n",
       "      <td>...</td>\n",
       "      <td>...</td>\n",
       "    </tr>\n",
       "    <tr>\n",
       "      <th>2021-11-18</th>\n",
       "      <td>10.08</td>\n",
       "      <td>9.84</td>\n",
       "      <td>10.06</td>\n",
       "      <td>9.96</td>\n",
       "      <td>31786800.0</td>\n",
       "      <td>9.804969</td>\n",
       "    </tr>\n",
       "    <tr>\n",
       "      <th>2021-11-23</th>\n",
       "      <td>9.98</td>\n",
       "      <td>9.78</td>\n",
       "      <td>9.87</td>\n",
       "      <td>9.94</td>\n",
       "      <td>21040300.0</td>\n",
       "      <td>9.785279</td>\n",
       "    </tr>\n",
       "    <tr>\n",
       "      <th>2021-11-24</th>\n",
       "      <td>10.00</td>\n",
       "      <td>9.73</td>\n",
       "      <td>9.75</td>\n",
       "      <td>9.94</td>\n",
       "      <td>23736200.0</td>\n",
       "      <td>9.940000</td>\n",
       "    </tr>\n",
       "    <tr>\n",
       "      <th>2021-11-25</th>\n",
       "      <td>10.13</td>\n",
       "      <td>9.92</td>\n",
       "      <td>9.92</td>\n",
       "      <td>10.03</td>\n",
       "      <td>15894800.0</td>\n",
       "      <td>10.030000</td>\n",
       "    </tr>\n",
       "    <tr>\n",
       "      <th>2021-11-26</th>\n",
       "      <td>9.89</td>\n",
       "      <td>9.70</td>\n",
       "      <td>9.89</td>\n",
       "      <td>9.83</td>\n",
       "      <td>25805900.0</td>\n",
       "      <td>9.830000</td>\n",
       "    </tr>\n",
       "  </tbody>\n",
       "</table>\n",
       "<p>233 rows × 6 columns</p>\n",
       "</div>"
      ],
      "text/plain": [
       "             High    Low   Open  Close      Volume  Adj Close\n",
       "Date                                                         \n",
       "2020-12-01  11.13  10.70  10.75  11.04  39752900.0  10.539980\n",
       "2020-12-02  11.12  10.91  11.05  11.03  19672800.0  10.530435\n",
       "2020-12-03  11.44  11.02  11.07  11.19  42988000.0  10.683187\n",
       "2020-12-04  11.29  11.07  11.26  11.21  24138900.0  10.702282\n",
       "2020-12-07  11.39  11.08  11.17  11.26  26761100.0  10.750017\n",
       "...           ...    ...    ...    ...         ...        ...\n",
       "2021-11-18  10.08   9.84  10.06   9.96  31786800.0   9.804969\n",
       "2021-11-23   9.98   9.78   9.87   9.94  21040300.0   9.785279\n",
       "2021-11-24  10.00   9.73   9.75   9.94  23736200.0   9.940000\n",
       "2021-11-25  10.13   9.92   9.92  10.03  15894800.0  10.030000\n",
       "2021-11-26   9.89   9.70   9.89   9.83  25805900.0   9.830000\n",
       "\n",
       "[233 rows x 6 columns]"
      ]
     },
     "metadata": {},
     "output_type": "display_data"
    }
   ],
   "source": [
    "dfitsa4 = web.DataReader('ITSA4.SA', data_source=\"yahoo\", start = '12-01-2020', end = '11-26-2021')\n",
    "display (dfitsa4)"
   ]
  },
  {
   "cell_type": "code",
   "execution_count": 5,
   "id": "bc21ee3a-720f-4774-a910-923105731d42",
   "metadata": {},
   "outputs": [
    {
     "data": {
      "image/png": "[encoded data removed]",
      "text/plain": [
       "<Figure size 1080x576 with 1 Axes>"
      ]
     },
     "metadata": {
      "needs_background": "light"
     },
     "output_type": "display_data"
    }
   ],
   "source": [
    "dfitsa4[\"Adj Close\"].plot(figsize=(15,8))\n",
    "plt.legend()\n",
    "plt.grid();"
   ]
  },
  {
   "cell_type": "markdown",
   "id": "abc7ae1c-e209-4d69-87fa-bdbfc4d6d59f",
   "metadata": {},
   "source": [
    "# 2. Calculating MA9"
   ]
  },
  {
   "cell_type": "markdown",
   "id": "313a6d59-71e7-4cab-9050-d2bac18fd407",
   "metadata": {},
   "source": [
    "<div class=\"alert alert-block alert-danger\">\n",
    "<b>Under construction   </b>  Please, come back later... \n",
    "</div>"
   ]
  },
  {
   "cell_type": "markdown",
   "id": "ec0c26de-f414-4f53-931b-f61135167886",
   "metadata": {},
   "source": [
    "# ..."
   ]
  },
  {
   "cell_type": "markdown",
   "id": "3c5df440-cf12-4a42-bb1d-b97b18627555",
   "metadata": {},
   "source": [
    "# 3. ..."
   ]
  },
  {
   "cell_type": "markdown",
   "id": "71a5428b-ee65-4fe0-9459-5db9aa5264a6",
   "metadata": {},
   "source": [
    "# 4. ..."
   ]
  },
  {
   "cell_type": "markdown",
   "id": "698c2d43-7c91-4a05-8437-61430b082124",
   "metadata": {},
   "source": [
    "# 5. Conclusion:"
   ]
  },
  {
   "cell_type": "markdown",
   "id": "bd06c10c-ea27-48fc-a54c-76744d7e9389",
   "metadata": {},
   "source": [
    "#### *...*"
   ]
  },
  {
   "cell_type": "markdown",
   "id": "665d934c-d793-49d7-bb52-58bd5ae9b8aa",
   "metadata": {},
   "source": [
    "\n",
    "___\n",
    "</br>\n",
    "</br>\n",
    "</br>"
   ]
  },
  {
   "cell_type": "markdown",
   "id": "77d22483-a32c-4137-bf65-7159d07c2bca",
   "metadata": {},
   "source": [
    "<div class=\"alert alert-block alert-info\">\n",
    "<b>References:</b> </div>"
   ]
  },
  {
   "cell_type": "markdown",
   "id": "1a82396f-7cb6-4cd6-9dc6-da17c3c9d46c",
   "metadata": {},
   "source": [
    "###### <font color='steelblue'> *YouTube Channel: \"Stormer\"  ,  Video: \"Média móvel de 9 ! Sistema de position e swing simples e eficiente\": https://youtu.be/MnGYMDOV1gY?list=PLmQ5Q79miLmwnr4rFt4-br-ngYiRKyEXc* </font>\n",
    "###### https://finance.yahoo.com/quote/RAPT4.SA/history?p=ITSA4.SA\n",
    "###### https://statusinvest.com.br\n",
    "###### https://www.investimentonabolsa.com/2014/04/setups-91-92-e-93.html"
   ]
  }
 ],
 "metadata": {
  "kernelspec": {
   "display_name": "Python 3 (ipykernel)",
   "language": "python",
   "name": "python3"
  },
  "language_info": {
   "codemirror_mode": {
    "name": "ipython",
    "version": 3
   },
   "file_extension": ".py",
   "mimetype": "text/x-python",
   "name": "python",
   "nbconvert_exporter": "python",
   "pygments_lexer": "ipython3",
   "version": "3.8.8"
  }
 },
 "nbformat": 4,
 "nbformat_minor": 5
}
